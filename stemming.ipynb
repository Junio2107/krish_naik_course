{
 "cells": [
  {
   "cell_type": "markdown",
   "metadata": {},
   "source": [
    "# Stemming\n",
    "\n",
    "Stemming is the process of reducing a word to its word stem that affixes to suffixes and prefixes or to the roots of words known as a lemma.\n",
    "Stemming is important in natural language understanding (NLU) and natural learning processing (NLP)"
   ]
  },
  {
   "cell_type": "code",
   "execution_count": 4,
   "metadata": {},
   "outputs": [],
   "source": [
    "from nltk.stem import PorterStemmer"
   ]
  },
  {
   "cell_type": "code",
   "execution_count": 1,
   "metadata": {},
   "outputs": [],
   "source": [
    "words=[\"eating\",\"eats\",\"eaten\",\"writing\",\"writes\",\"programming\",\"programs\",\"history\",\"finally\",\"finalized\"]"
   ]
  },
  {
   "cell_type": "code",
   "execution_count": 8,
   "metadata": {},
   "outputs": [
    {
     "name": "stdout",
     "output_type": "stream",
     "text": [
      "eating--->eat\n",
      "eats--->eat\n",
      "eaten--->eaten\n",
      "writing--->write\n",
      "writes--->write\n",
      "programming--->program\n",
      "programs--->program\n",
      "history--->histori\n",
      "finally--->final\n",
      "finalized--->final\n"
     ]
    }
   ],
   "source": [
    "stemming = PorterStemmer()\n",
    "for word in words:\n",
    "    print(word + '--->' + stemming.stem(word))"
   ]
  },
  {
   "cell_type": "code",
   "execution_count": 15,
   "metadata": {},
   "outputs": [
    {
     "name": "stdout",
     "output_type": "stream",
     "text": [
      "congratul\n",
      "sit\n",
      "better\n",
      "organização\n",
      "organ\n"
     ]
    }
   ],
   "source": [
    "print(stemming.stem('congratulations'))\n",
    "print(stemming.stem('sitting'))\n",
    "print(stemming.stem('better'))\n",
    "print(stemming.stem('organização'))\n",
    "print(stemming.stem('organize'))"
   ]
  },
  {
   "cell_type": "markdown",
   "metadata": {},
   "source": [
    "Stemming has some disadvantages because, in some cases, it changes the meaning of words when reducing them to their stems"
   ]
  },
  {
   "cell_type": "markdown",
   "metadata": {},
   "source": [
    "## Desvantagens do PorterStemming\n",
    "1) Perda de Precisão Semântica:\n",
    "\n",
    "- Descrição: Stemming pode alterar o significado das palavras ao reduzi-las às suas raízes, levando a possíveis mal-entendidos.\n",
    "- Exemplo: \"Better\" pode ser reduzido a \"bet\", que tem um significado completamente diferente.\n",
    "2) Problemas com Homônimos:\n",
    "\n",
    "- Descrição: Palavras diferentes que compartilham a mesma raiz podem ser tratadas como equivalentes, causando confusão.\n",
    "- Exemplo: \"Organização\" (substantivo) e \"organizar\" (verbo) podem ser reduzidos à mesma raiz, apesar de terem usos diferentes.\n",
    "3) Limitações em Idiomas Complexos:\n",
    "\n",
    "- Descrição: Em idiomas com morfologia complexa, o stemming pode ser menos eficaz e mais propenso a erros.\n",
    "- Exemplo: Idiomas como o finlandês ou o húngaro têm formas de palavras altamente inflexionadas que podem não ser tratadas adequadamente por técnicas simples de stemming.\n",
    "## Considerações Finais\n",
    "- Contexto de Uso: A utilidade do stemming depende fortemente do contexto. Em sistemas de busca e análise de texto onde a eficiência é crucial, as vantagens podem superar as desvantagens.\n",
    "- Alternativas: Técnicas mais avançadas, como lematização, podem ser preferíveis em contextos onde a precisão semântica é crucial. A lematização considera o contexto e a gramática para reduzir palavras à sua forma base (lema), o que pode mitigar alguns dos problemas do stemming."
   ]
  },
  {
   "cell_type": "markdown",
   "metadata": {},
   "source": [
    "## RegexpStemmer class\n",
    "\n",
    "NLTK has regexpstemmer class with the help of which we can easily implement regular expressions stemmer algorithms.\n",
    "It basically takes a single regular expression and removes any prefix or suffix that matches the expression."
   ]
  },
  {
   "cell_type": "code",
   "execution_count": 16,
   "metadata": {},
   "outputs": [],
   "source": [
    "from nltk.stem import RegexpStemmer"
   ]
  },
  {
   "cell_type": "code",
   "execution_count": 28,
   "metadata": {},
   "outputs": [],
   "source": [
    "reg_stemmer = RegexpStemmer('ing$|s$|e$|able$', min=4)\n",
    "# o $ no final significa que ele vai excluir o ing que estiver no final da palavra. Exemplo bom é a palavra \"singing\""
   ]
  },
  {
   "cell_type": "code",
   "execution_count": 42,
   "metadata": {},
   "outputs": [
    {
     "data": {
      "text/plain": [
       "'better'"
      ]
     },
     "execution_count": 42,
     "metadata": {},
     "output_type": "execute_result"
    }
   ],
   "source": [
    "reg_stemmer.stem('better')"
   ]
  },
  {
   "cell_type": "markdown",
   "metadata": {},
   "source": [
    "# Snowball Stemmer"
   ]
  },
  {
   "cell_type": "code",
   "execution_count": 30,
   "metadata": {},
   "outputs": [],
   "source": [
    "from nltk.stem import SnowballStemmer"
   ]
  },
  {
   "cell_type": "code",
   "execution_count": 40,
   "metadata": {},
   "outputs": [
    {
     "data": {
      "text/plain": [
       "'better'"
      ]
     },
     "execution_count": 40,
     "metadata": {},
     "output_type": "execute_result"
    }
   ],
   "source": [
    "snowballstemmer = SnowballStemmer('english')\n",
    "snowballstemmer.stem('better')"
   ]
  },
  {
   "cell_type": "code",
   "execution_count": 35,
   "metadata": {},
   "outputs": [
    {
     "name": "stdout",
     "output_type": "stream",
     "text": [
      "eating---->eat\n",
      "eats---->eat\n",
      "eaten---->eaten\n",
      "writing---->write\n",
      "writes---->write\n",
      "programming---->program\n",
      "programs---->program\n",
      "history---->histori\n",
      "finally---->final\n",
      "finalized---->final\n"
     ]
    }
   ],
   "source": [
    "for word in words:\n",
    "    print(word + '---->' + snowballstemmer.stem(word))"
   ]
  },
  {
   "cell_type": "code",
   "execution_count": null,
   "metadata": {},
   "outputs": [],
   "source": []
  }
 ],
 "metadata": {
  "kernelspec": {
   "display_name": "base",
   "language": "python",
   "name": "python3"
  },
  "language_info": {
   "codemirror_mode": {
    "name": "ipython",
    "version": 3
   },
   "file_extension": ".py",
   "mimetype": "text/x-python",
   "name": "python",
   "nbconvert_exporter": "python",
   "pygments_lexer": "ipython3",
   "version": "3.11.4"
  }
 },
 "nbformat": 4,
 "nbformat_minor": 2
}
