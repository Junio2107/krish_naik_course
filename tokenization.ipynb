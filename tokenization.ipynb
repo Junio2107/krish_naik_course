{
 "cells": [
  {
   "cell_type": "code",
   "execution_count": 21,
   "metadata": {},
   "outputs": [
    {
     "name": "stderr",
     "output_type": "stream",
     "text": [
      "[nltk_data] Downloading package punkt to\n",
      "[nltk_data]     C:\\Users\\Junio\\AppData\\Roaming\\nltk_data...\n",
      "[nltk_data]   Package punkt is already up-to-date!\n"
     ]
    },
    {
     "data": {
      "text/plain": [
       "True"
      ]
     },
     "execution_count": 21,
     "metadata": {},
     "output_type": "execute_result"
    }
   ],
   "source": [
    "from nltk.tokenize import sent_tokenize\n",
    "from nltk.tokenize import word_tokenize\n",
    "import nltk\n",
    "nltk.download('punkt')"
   ]
  },
  {
   "cell_type": "code",
   "execution_count": 14,
   "metadata": {},
   "outputs": [],
   "source": [
    "message = \"\"\"\n",
    "Hello, my name is Junio and I am 41 years old.\n",
    "My Mom's name is Zelita.\n",
    "My Sisters's and Girlfriend's name is Jaqueline.\n",
    "I am so glady to be hear!\n",
    "\"\"\""
   ]
  },
  {
   "cell_type": "code",
   "execution_count": 15,
   "metadata": {},
   "outputs": [
    {
     "name": "stdout",
     "output_type": "stream",
     "text": [
      "\n",
      "Hello, my name is Junio and I am 41 years old.\n",
      "My Mom's name is Zelita.\n",
      "My Sisters's and Girlfriend's name is Jaqueline.\n",
      "I am so glady to be hear!\n",
      "\n"
     ]
    }
   ],
   "source": [
    "print(message)"
   ]
  },
  {
   "cell_type": "code",
   "execution_count": 18,
   "metadata": {},
   "outputs": [
    {
     "data": {
      "text/plain": [
       "['\\nHello, my name is Junio and I am 41 years old.',\n",
       " \"My Mom's name is Zelita.\",\n",
       " \"My Sisters's and Girlfriend's name is Jaqueline.\",\n",
       " 'I am so glady to be hear!']"
      ]
     },
     "execution_count": 18,
     "metadata": {},
     "output_type": "execute_result"
    }
   ],
   "source": [
    "document = sent_tokenize(message)"
   ]
  },
  {
   "cell_type": "code",
   "execution_count": 19,
   "metadata": {},
   "outputs": [
    {
     "name": "stdout",
     "output_type": "stream",
     "text": [
      "\n",
      "Hello, my name is Junio and I am 41 years old.\n",
      "My Mom's name is Zelita.\n",
      "My Sisters's and Girlfriend's name is Jaqueline.\n",
      "I am so glady to be hear!\n"
     ]
    }
   ],
   "source": [
    "for sentence in document:\n",
    "    print(sentence)"
   ]
  },
  {
   "cell_type": "code",
   "execution_count": 24,
   "metadata": {},
   "outputs": [
    {
     "data": {
      "text/plain": [
       "list"
      ]
     },
     "execution_count": 24,
     "metadata": {},
     "output_type": "execute_result"
    }
   ],
   "source": [
    "words = word_tokenize(message)\n",
    "type(words)"
   ]
  },
  {
   "cell_type": "markdown",
   "metadata": {},
   "source": [
    "Comparação Resumida\n",
    "sent_tokenize:\n",
    "\n",
    "Objetivo: Dividir o texto em sentenças.\n",
    "Saída: Lista de sentenças.\n",
    "Exemplo de Saída: ['Olá!', 'Como você está?', 'Espero que esteja bem.']\n",
    "word_tokenize:\n",
    "\n",
    "Objetivo: Dividir o texto em palavras e pontuações.\n",
    "Saída: Lista de palavras e pontuações.\n",
    "Exemplo de Saída: ['Olá', '!', 'Como', 'você', 'está', '?']\n",
    "wordpunct_tokenize:\n",
    "\n",
    "Objetivo: Dividir o texto em palavras e pontuações, tratando cada caractere de pontuação como um token separado.\n",
    "Saída: Lista de palavras e pontuações.\n",
    "Exemplo de Saída: ['Olá', '!', 'Como', 'você', 'está', '?']\n",
    "Qual Usar?\n",
    "sent_tokenize: Use quando você precisa dividir um texto em sentenças.\n",
    "word_tokenize: Use quando você precisa dividir um texto em palavras e pontuações, mantendo uma separação lógica.\n",
    "wordpunct_tokenize: Use quando você precisa de uma separação mais detalhada, onde cada caractere de pontuação é tratado como um token separado."
   ]
  }
 ],
 "metadata": {
  "kernelspec": {
   "display_name": "base",
   "language": "python",
   "name": "python3"
  },
  "language_info": {
   "codemirror_mode": {
    "name": "ipython",
    "version": 3
   },
   "file_extension": ".py",
   "mimetype": "text/x-python",
   "name": "python",
   "nbconvert_exporter": "python",
   "pygments_lexer": "ipython3",
   "version": "3.11.4"
  }
 },
 "nbformat": 4,
 "nbformat_minor": 2
}
